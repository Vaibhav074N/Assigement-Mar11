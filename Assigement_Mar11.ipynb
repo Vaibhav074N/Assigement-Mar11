{
  "nbformat": 4,
  "nbformat_minor": 0,
  "metadata": {
    "colab": {
      "provenance": [],
      "authorship_tag": "ABX9TyPrIt0gkxPW5hC3wnFEKwbl",
      "include_colab_link": true
    },
    "kernelspec": {
      "name": "python3",
      "display_name": "Python 3"
    },
    "language_info": {
      "name": "python"
    }
  },
  "cells": [
    {
      "cell_type": "markdown",
      "metadata": {
        "id": "view-in-github",
        "colab_type": "text"
      },
      "source": [
        "<a href=\"https://colab.research.google.com/github/Vaibhav074N/Assigement-Mar11/blob/main/Assigement_Mar11.ipynb\" target=\"_parent\"><img src=\"https://colab.research.google.com/assets/colab-badge.svg\" alt=\"Open In Colab\"/></a>"
      ]
    },
    {
      "cell_type": "markdown",
      "source": [
        "Q1: What is the difference between a t-test and a z-test? Provide an example scenario where you would\n",
        "use each type of test."
      ],
      "metadata": {
        "id": "v5pUwrPj7W4q"
      }
    },
    {
      "cell_type": "markdown",
      "source": [
        "A t-test and a z-test are both statistical tests used to determine whether a sample comes from a population with a known population mean or not. However, the key difference between the two tests is that a z-test is used when the population standard deviation is known, while a t-test is used when the population standard deviation is unknown and estimated from the sample.\n",
        "\n",
        "An example scenario where a z-test might be used is when a researcher wants to compare the average height of male and female students at a university. If the population standard deviation of heights is known, a z-test can be used to test the hypothesis that the population means of the two groups are equal.\n",
        "\n",
        "An example scenario where a t-test might be used is when a researcher wants to test the effectiveness of a new drug on reducing cholesterol levels in patients. Since the population standard deviation of cholesterol levels is typically unknown, a t-test can be used to test the hypothesis that the mean cholesterol levels of patients taking the new drug are lower than those not taking the drug"
      ],
      "metadata": {
        "id": "IEXAVFbV72Hm"
      }
    },
    {
      "cell_type": "code",
      "execution_count": null,
      "metadata": {
        "id": "w2-cPQd07O70"
      },
      "outputs": [],
      "source": []
    },
    {
      "cell_type": "markdown",
      "source": [
        "Q2: Differentiate between one-tailed and two-tailed tests."
      ],
      "metadata": {
        "id": "XydxHu_674p9"
      }
    },
    {
      "cell_type": "markdown",
      "source": [
        "In hypothesis testing, the significance level is the probability of rejecting the null hypothesis when it is true. A one-tailed test is a hypothesis test in which the null hypothesis is rejected only if the test statistic falls in the critical region in one tail of the distribution. The critical region for a one-tailed test is on one side of the distribution, either to the right or the left.\n",
        "\n",
        "On the other hand, a two-tailed test is a hypothesis test in which the null hypothesis is rejected if the test statistic falls in either tail of the distribution. The critical region for a two-tailed test is on both sides of the distribution, which means that the null hypothesis is rejected if the test statistic falls in either the right or the left tail of the distribution.\n",
        "\n",
        "For example, in a one-tailed test, a researcher might hypothesize that a certain drug will increase the average response time of participants on a cognitive task. They would then perform a one-tailed test to determine if the drug does indeed increase the response time. In contrast, in a two-tailed test, a researcher might hypothesize that a certain intervention will change the average score on a test. They would then perform a two-tailed test to determine if the intervention does indeed have an effect on the scores, regardless of whether it increases or decreases them."
      ],
      "metadata": {
        "id": "3OJmnsGP7879"
      }
    },
    {
      "cell_type": "code",
      "source": [],
      "metadata": {
        "id": "NEhC9RbI78AR"
      },
      "execution_count": null,
      "outputs": []
    },
    {
      "cell_type": "markdown",
      "source": [
        "Q3: Explain the concept of Type 1 and Type 2 errors in hypothesis testing. Provide an example scenario for\n",
        "each type of error."
      ],
      "metadata": {
        "id": "v6txWtwf80gn"
      }
    },
    {
      "cell_type": "markdown",
      "source": [
        "Type 1 error, also known as a false positive, occurs when the null hypothesis is rejected even though it is true. This means that the alternative hypothesis is accepted, even though there is no significant evidence to support it. The probability of making a Type 1 error is denoted by alpha (α), and it is usually set at a significance level of 0.05 or 0.01. An example scenario of Type 1 error is when a medical researcher concludes that a new drug is effective in treating a disease when, in fact, it has no effect.\n",
        "\n",
        "Type 2 error, also known as a false negative, occurs when the null hypothesis is accepted even though it is false. This means that the alternative hypothesis is rejected, even though there is significant evidence to support it. The probability of making a Type 2 error is denoted by beta (β). An example scenario of Type 2 error is when a medical researcher concludes that a new drug is not effective in treating a disease when, in fact, it is effective."
      ],
      "metadata": {
        "id": "KBLtPcEe9nkC"
      }
    },
    {
      "cell_type": "code",
      "source": [],
      "metadata": {
        "id": "hE6jIkc_81CK"
      },
      "execution_count": null,
      "outputs": []
    },
    {
      "cell_type": "markdown",
      "source": [
        "Q4: Explain Bayes's theorem with an example."
      ],
      "metadata": {
        "id": "zLqKlZNs9pR2"
      }
    },
    {
      "cell_type": "markdown",
      "source": [
        "Bayes's theorem is a mathematical formula used in probability theory and statistics to calculate the probability of an event based on prior knowledge of related events. It is named after the Reverend Thomas Bayes, who developed the theorem in the 18th century.\n",
        "\n",
        "The formula for Bayes's theorem is:\n",
        "\n",
        "P(A/B) = P(A) * P(B/A) / P(B)\n",
        "\n",
        "Where,\n",
        "\n",
        "P(A/B) = probability of A given B is true.\n",
        "\n",
        "P(B/A) = probability of B given A is true.\n",
        "\n",
        "P(A) is the Independed probability of event A.\n",
        "\n",
        "P(B) is the Independed probability of event B.\n",
        "\n",
        "\n"
      ],
      "metadata": {
        "id": "_QeXwzL39t5a"
      }
    },
    {
      "cell_type": "markdown",
      "source": [
        "An example scenario where Bayes's theorem could be used is in medical diagnosis. Suppose a patient is experiencing certain symptoms that could be indicative of a certain disease. The prior probability of the patient having the disease is relatively low, say 5%. The doctor orders a test to confirm the diagnosis. The test has a sensitivity of 90%, which means that if the patient has the disease, the test correctly identifies it 90% of the time. However, the test also has a false positive rate of 10%, which means that if the patient does not have the disease, the test incorrectly indicates that they do 10% of the time.\n",
        "\n",
        "Using Bayes's theorem, we can calculate the probability that the patient actually has the disease given that the test is positive. Let's assume the test comes back positive. We can calculate the probability of the patient having the disease given the positive test result as follows:\n",
        "\n",
        "P(disease|positive test) = P(positive test|disease) x P(disease) / P(positive test)\n",
        "\n",
        "where:\n",
        "P(disease|positive test) is the probability of the patient having the disease given a positive test result.\n",
        "P(positive test|disease) is the probability of a positive test result given that the patient has the disease, which is the sensitivity of the test (0.90).\n",
        "P(disease) is the prior probability of the patient having the disease (0.05).\n",
        "P(positive test) is the overall probability of a positive test result, which is the sum of the probability of a true positive (0.90 x 0.05) and the probability of a false positive (0.10 x 0.95) = 0.135.\n",
        "\n",
        "Plugging in the numbers, we get:\n",
        "\n",
        "P(disease|positive test) = 0.90 x 0.05 / 0.135 = 0.333\n",
        "\n",
        "So the probability of the patient actually having the disease given a positive test result is 33.3%. This shows that even with a relatively high sensitivity, the probability of a positive test result accurately indicating the presence of a disease can still be relatively low, especially if the prior probability of the disease is low."
      ],
      "metadata": {
        "id": "Eh__2kXTBqqC"
      }
    },
    {
      "cell_type": "code",
      "source": [],
      "metadata": {
        "id": "3ImhPcKq9tQl"
      },
      "execution_count": null,
      "outputs": []
    },
    {
      "cell_type": "markdown",
      "source": [
        "Q5: What is a confidence interval? How to calculate the confidence interval, explain with an example."
      ],
      "metadata": {
        "id": "w3Zw7oux-AJ6"
      }
    },
    {
      "cell_type": "markdown",
      "source": [
        "A confidence interval is a range of values that is likely to contain the true value of a population parameter with a certain level of confidence. It is used to estimate the true value of a population parameter, such as the mean or proportion, based on a sample of data.\n",
        "\n",
        "To calculate a confidence interval, we need to first determine the sample mean and sample standard deviation, as well as the sample size and the desired level of confidence. The formula for a confidence interval for a population mean is:\n",
        "\n",
        "Confidence interval = sample mean ± (critical value) x (standard error)\n",
        "\n",
        "where the critical value is determined by the level of confidence and the degrees of freedom, and the standard error is calculated as the standard deviation divided by the square root of the sample size"
      ],
      "metadata": {
        "id": "v02ySoDX-F5R"
      }
    },
    {
      "cell_type": "code",
      "source": [
        "import numpy as np\n",
        "from scipy.stats import t\n",
        "\n",
        "n = 50\n",
        "sample_mean = 10\n",
        "sample_std = 2\n",
        "df = n - 1\n",
        "\n",
        "t_value = t.ppf(0.975, df)\n",
        "\n",
        "# Margin of error\n",
        "moe = t_value * (sample_std / np.sqrt(n))\n",
        "\n",
        "lower_bound = sample_mean - moe\n",
        "upper_bound = sample_mean + moe\n",
        "\n",
        "print(f\"95% confidence interval: ({lower_bound}, {upper_bound})\")"
      ],
      "metadata": {
        "colab": {
          "base_uri": "https://localhost:8080/"
        },
        "id": "Pzsr0U3s9sYm",
        "outputId": "b7a88b3e-d4ce-4edf-bc40-7669facd8e98"
      },
      "execution_count": null,
      "outputs": [
        {
          "output_type": "stream",
          "name": "stdout",
          "text": [
            "95% confidence interval: (9.431606289755253, 10.568393710244747)\n"
          ]
        }
      ]
    },
    {
      "cell_type": "code",
      "source": [],
      "metadata": {
        "id": "utCvLlkYCkuU"
      },
      "execution_count": null,
      "outputs": []
    },
    {
      "cell_type": "markdown",
      "source": [
        "Q6. Use Bayes' Theorem to calculate the probability of an event occurring given prior knowledge of the\n",
        "event's probability and new evidence. Provide a sample problem and solution."
      ],
      "metadata": {
        "id": "kjc-VTjjCvKL"
      }
    },
    {
      "cell_type": "markdown",
      "source": [
        "Problem: A medical test is known to correctly identify 95% of cases of a certain disease, but also has a false positive rate of 10%. The disease is known to occur in 1% of the population. If a person tests positive for the disease, what is the probability that they actually have the disease?\n",
        "\n",
        "Solution:\n",
        "\n",
        "Let A be the event that the person has the disease, and B be the event that the person tests positive for the disease. Then, we want to find P(A|B), the probability of having the disease given a positive test result.\n",
        "\n",
        "We can use Bayes' Theorem to calculate this probability:\n",
        "\n",
        "P(A|B) = P(B|A) * P(A) / P(B)\n",
        "\n",
        "where:\n",
        "\n",
        "P(B|A) is the probability of testing positive given that the person has the disease, which is the sensitivity of the test, or 0.95 in this case.\n",
        "P(A) is the prior probability of having the disease, which is 0.01.\n",
        "P(B) is the total probability of testing positive, which can be calculated using the law of total probability:\n",
        "P(B) = P(B|A) * P(A) + P(B|not A) * P(not A)\n",
        "where P(B|not A) is the false positive rate, or 0.1 in this case, and P(not A) is 1 - P(A), or 0.99 in this case.\n",
        "Substituting these values into Bayes' Theorem, we get:\n",
        "\n",
        "P(A|B) = 0.95 * 0.01 / (0.95 * 0.01 + 0.1 * 0.99) = 0.086\n",
        "\n",
        "Therefore, the probability of actually having the disease given a positive test result is only 8.6%. This shows the importance of considering both the sensitivity and false positive rate of a test, as well as the prior probability of the event, when interpreting test results"
      ],
      "metadata": {
        "id": "d6UOVw94EH_N"
      }
    },
    {
      "cell_type": "code",
      "source": [],
      "metadata": {
        "id": "2PQv7Uv6C0lr"
      },
      "execution_count": null,
      "outputs": []
    },
    {
      "cell_type": "markdown",
      "source": [
        "Q7. Calculate the 95% confidence interval for a sample of data with a mean of 50 and a standard deviation\n",
        "of 5. Interpret the results."
      ],
      "metadata": {
        "id": "mBV2j5DPDEhd"
      }
    },
    {
      "cell_type": "code",
      "source": [
        "import scipy.stats as stats\n",
        "\n",
        "mean = 50\n",
        "std_dev = 5\n",
        "n = 100  \n",
        "\n",
        "std_err = std_dev / (n ** 0.5)\n",
        "\n",
        "t_value = stats.t.ppf(0.975, n-1)\n",
        "\n",
        "lower_ci = mean - t_value * std_err\n",
        "upper_ci = mean + t_value * std_err\n",
        "\n",
        "print(\"95% Confidence Interval: ({:.2f}, {:.2f})\".format(lower_ci, upper_ci))"
      ],
      "metadata": {
        "id": "HcUWMIObDH1T",
        "colab": {
          "base_uri": "https://localhost:8080/"
        },
        "outputId": "bf2026cd-7370-4088-9fc9-408a00a5d075"
      },
      "execution_count": 1,
      "outputs": [
        {
          "output_type": "stream",
          "name": "stdout",
          "text": [
            "95% Confidence Interval: (49.01, 50.99)\n"
          ]
        }
      ]
    },
    {
      "cell_type": "markdown",
      "source": [
        "Q8. What is the margin of error in a confidence interval? How does sample size affect the margin of error?\n",
        "Provide an example of a scenario where a larger sample size would result in a smaller margin of error."
      ],
      "metadata": {
        "id": "LjB32ftTDJ4O"
      }
    },
    {
      "cell_type": "markdown",
      "source": [
        "The margin of error is the range of values above and below the sample statistic (such as the sample mean or proportion) that is likely to contain the true population parameter with a certain level of confidence. It represents the uncertainty in the estimation of the population parameter based on the sample.\n",
        "\n",
        "The formula for the margin of error is:\n",
        "\n",
        "Margin of error = z-score x (standard deviation / square root of sample size)\n",
        "\n",
        "where the z-score is determined by the desired confidence level.\n",
        "\n",
        "Sample size affects the margin of error in two ways: as the sample size increases, the margin of error decreases, and as the sample size decreases, the margin of error increases. This is because a larger sample size provides more information about the population, leading to a more accurate estimation of the population parameter and less uncertainty"
      ],
      "metadata": {
        "id": "71t7h6bjSPVX"
      }
    },
    {
      "cell_type": "code",
      "source": [
        "import numpy as np\n",
        "import scipy.stats as stats\n",
        "\n",
        "data1 = np.random.normal(loc=50, scale=5, size=100)\n",
        "data2 = np.random.normal(loc=50, scale=5, size=500)\n",
        "\n",
        "mean1, std1 = np.mean(data1), np.std(data1, ddof=1)\n",
        "mean2, std2 = np.mean(data2), np.std(data2, ddof=1)\n",
        "\n",
        "z_score = stats.norm.ppf(0.975)\n",
        "moe1 = z_score * std1 / np.sqrt(len(data1))\n",
        "moe2 = z_score * std2 / np.sqrt(len(data2))"
      ],
      "metadata": {
        "id": "Psvw66d6U6qq"
      },
      "execution_count": 5,
      "outputs": []
    },
    {
      "cell_type": "code",
      "source": [
        "z_score"
      ],
      "metadata": {
        "colab": {
          "base_uri": "https://localhost:8080/"
        },
        "id": "loMTi37gVLJs",
        "outputId": "ba3238d5-717f-4cee-e24a-95d8b2aae72d"
      },
      "execution_count": 4,
      "outputs": [
        {
          "output_type": "execute_result",
          "data": {
            "text/plain": [
              "1.959963984540054"
            ]
          },
          "metadata": {},
          "execution_count": 4
        }
      ]
    },
    {
      "cell_type": "code",
      "source": [
        "print(\"Margin of error for sample size 100: {:.2f}\".format(moe1))\n",
        "print(\"Margin of error for sample size 500: {:.2f}\".format(moe2))"
      ],
      "metadata": {
        "colab": {
          "base_uri": "https://localhost:8080/"
        },
        "id": "vejjeNsvVPfO",
        "outputId": "449f9e13-3950-4c2d-f010-1f4bd602ec2d"
      },
      "execution_count": 6,
      "outputs": [
        {
          "output_type": "stream",
          "name": "stdout",
          "text": [
            "Margin of error for sample size 100: 0.92\n",
            "Margin of error for sample size 500: 0.45\n"
          ]
        }
      ]
    },
    {
      "cell_type": "markdown",
      "source": [
        "Q9. Calculate the z-score for a data point with a value of 75, a population mean of 70, and a population\n",
        "standard deviation of 5. Interpret the results."
      ],
      "metadata": {
        "id": "7t9wO28zDPlY"
      }
    },
    {
      "cell_type": "code",
      "source": [
        "xbar = 75\n",
        "mean = 70\n",
        "stddev = 5\n",
        "\n",
        "z_score = (xbar - mean) / stddev\n",
        "print(\"The z-score is:\", z_score)"
      ],
      "metadata": {
        "id": "EUOBkYHjDQL1",
        "colab": {
          "base_uri": "https://localhost:8080/"
        },
        "outputId": "97d066b4-222c-401b-8b42-861724d1ae11"
      },
      "execution_count": 7,
      "outputs": [
        {
          "output_type": "stream",
          "name": "stdout",
          "text": [
            "The z-score is: 1.0\n"
          ]
        }
      ]
    },
    {
      "cell_type": "markdown",
      "source": [
        "Q10. In a study of the effectiveness of a new weight loss drug, a sample of 50 participants lost an average\n",
        "of 6 pounds with a standard deviation of 2.5 pounds. Conduct a hypothesis test to determine if the drug is\n",
        "significantly effective at a 95% confidence level using a t-test.\n",
        "\n",
        "Ans:\n",
        "\n",
        "Null hypothesis: The weight loss drug is not significantly effective.\n",
        "\n",
        "Alternative hypothesis: The weight loss drug is significantly effective"
      ],
      "metadata": {
        "id": "OZccUNOwDQ5w"
      }
    },
    {
      "cell_type": "code",
      "source": [
        "import scipy.stats as stats\n",
        "\n",
        "# sample statistics\n",
        "n = 50\n",
        "x_bar = 6\n",
        "s = 2.5\n",
        "\n",
        "# hypothesized population parameters\n",
        "mu = 0\n",
        "\n",
        "# calculate the t-statistic\n",
        "t = (x_bar - mu) / (s / (n ** 0.5))\n",
        "\n",
        "# calculate the critical t-value\n",
        "alpha = 0.05\n",
        "df = n - 1\n",
        "t_crit = stats.t.ppf(alpha/2, df)\n",
        "\n",
        "# calculate the p-value\n",
        "p_value = stats.t.sf(abs(t), df) * 2\n",
        "\n",
        "# print the results\n",
        "print(\"t-statistic:\", t)\n",
        "print(\"critical t-value:\", -t_crit, t_crit)\n",
        "print(\"p-value:\", p_value)"
      ],
      "metadata": {
        "id": "AMgvuWBHDTjC",
        "colab": {
          "base_uri": "https://localhost:8080/"
        },
        "outputId": "3e0bd16e-0c9c-48d5-da56-d5492907a1bc"
      },
      "execution_count": 8,
      "outputs": [
        {
          "output_type": "stream",
          "name": "stdout",
          "text": [
            "t-statistic: 16.970562748477143\n",
            "critical t-value: 2.0095752344892093 -2.0095752344892093\n",
            "p-value: 3.7168840835270203e-22\n"
          ]
        }
      ]
    },
    {
      "cell_type": "markdown",
      "source": [
        "The calculated t-statistic of 12.00 is greater than the critical t-value of ±2.0096, and the p-value is less than 0.05. Therefore, we reject the null hypothesis and conclude that the new weight loss drug is significantly effective at a 95% confidence level"
      ],
      "metadata": {
        "id": "NvS4dB_SWIDi"
      }
    },
    {
      "cell_type": "code",
      "source": [],
      "metadata": {
        "id": "7Ppc-plqWIx9"
      },
      "execution_count": null,
      "outputs": []
    },
    {
      "cell_type": "markdown",
      "source": [
        "Q11. In a survey of 500 people, 65% reported being satisfied with their current job. Calculate the 95%\n",
        "confidence interval for the true proportion of people who are satisfied with their job."
      ],
      "metadata": {
        "id": "jvlEC8_ZWJhn"
      }
    },
    {
      "cell_type": "markdown",
      "source": [
        "To calculate the 95% confidence interval for the proportion of people satisfied with their job, we can use the formula:\n",
        "\n",
        "CI = p ± zsqrt((p(1-p))/n)\n",
        "\n",
        "where:\n",
        "\n",
        "p is the proportion of people satisfied with their job in the sample\n",
        "z is the critical value from the standard normal distribution for a 95% confidence level (which is approximately 1.96)\n",
        "n is the sample size\n",
        "Plugging in the values from the problem, we get:\n",
        "\n",
        "p = 0.65\n",
        "\n",
        "z = 1.96\n",
        "\n",
        "n = 500\n",
        "\n",
        "CI = 0.65 ± 1.96sqrt((0.65(1-0.65))/500)"
      ],
      "metadata": {
        "id": "zpuLiArzbkmr"
      }
    },
    {
      "cell_type": "code",
      "source": [
        "import math\n",
        "\n",
        "p = 0.65\n",
        "n = 500\n",
        "z = 1.96 # 95% confidence level\n",
        "margin_of_error = z * math.sqrt((p*(1-p))/n)\n",
        "\n",
        "lower_bound = p - margin_of_error\n",
        "upper_bound = p + margin_of_error\n",
        "\n",
        "print(lower_bound)\n",
        "print(upper_bound)"
      ],
      "metadata": {
        "colab": {
          "base_uri": "https://localhost:8080/"
        },
        "id": "z6Kord2dWJ7E",
        "outputId": "fc54b7dd-3f44-469e-df96-957f678ac4d4"
      },
      "execution_count": 9,
      "outputs": [
        {
          "output_type": "stream",
          "name": "stdout",
          "text": [
            "0.608191771144905\n",
            "0.6918082288550951\n"
          ]
        }
      ]
    },
    {
      "cell_type": "markdown",
      "source": [
        "Q12. A researcher is testing the effectiveness of two different teaching methods on student performance.\n",
        "Sample A has a mean score of 85 with a standard deviation of 6, while sample B has a mean score of 82\n",
        "with a standard deviation of 5. Conduct a hypothesis test to determine if the two teaching methods have a\n",
        "significant difference in student performance using a t-test with a significance level of 0.01."
      ],
      "metadata": {
        "id": "oU8FDiwdWKZc"
      }
    },
    {
      "cell_type": "markdown",
      "source": [
        "Step 1: State the null and alternative hypotheses:\n",
        "Null hypothesis: The mean scores of the two teaching methods are equal (μA = μB).\n",
        "Alternative hypothesis: The mean scores of the two teaching methods are not equal (μA ≠ μB).\n",
        "\n",
        "Step 2: Set the significance level:\n",
        "Significance level (α) = 0.01\n",
        "\n",
        "Step 3: Determine the test statistic:\n",
        "We will use a two-sample t-test to compare the means of the two groups. The test statistic can be calculated as:\n",
        "t = (x̄A - x̄B) / sqrt((s^2A/nA) + (s^2B/nB))\n",
        "where x̄A and x̄B are the sample means, s^2A and s^2B are the sample variances, and nA and nB are the sample sizes.\n",
        "\n",
        "Step 4: Determine the degrees of freedom:\n",
        "\n",
        "Step 5: Determine the critical value:\n",
        "\n",
        "Step 6: Make a decision and interpret the results"
      ],
      "metadata": {
        "id": "xcoPQSfMf8uB"
      }
    },
    {
      "cell_type": "code",
      "source": [
        "import numpy as np\n",
        "from scipy.stats import t\n",
        "\n",
        "# Sample A\n",
        "n_a = 30\n",
        "mean_a = 85\n",
        "std_a = 6\n",
        "\n",
        "# Sample B\n",
        "n_b = 25\n",
        "mean_b = 82\n",
        "std_b = 5\n",
        "\n",
        "df = n_a + n_b - 2\n",
        "\n",
        "se = np.sqrt((std_a**2/n_a) + (std_b**2/n_b))\n",
        "\n",
        "t_stat = (mean_a - mean_b) / se\n",
        "\n",
        "p_value = 2 * (1 - t.cdf(abs(t_stat), df))\n",
        "\n",
        "alpha = 0.01"
      ],
      "metadata": {
        "id": "Un3KEhIiaGGD"
      },
      "execution_count": 13,
      "outputs": []
    },
    {
      "cell_type": "code",
      "source": [
        "p_value , alpha"
      ],
      "metadata": {
        "colab": {
          "base_uri": "https://localhost:8080/"
        },
        "id": "F8zezrKVgyfV",
        "outputId": "02e41be7-e88d-4174-edf4-0a93a4d38483"
      },
      "execution_count": 12,
      "outputs": [
        {
          "output_type": "execute_result",
          "data": {
            "text/plain": [
              "(0.04817304403676115, 0.01)"
            ]
          },
          "metadata": {},
          "execution_count": 12
        }
      ]
    },
    {
      "cell_type": "code",
      "source": [
        "if p_value < alpha:\n",
        "    print(\"There is a significant difference in student performance between the two teaching methods.\")\n",
        "else:\n",
        "    print(\"There is no significant difference in student performance between the two teaching methods.\")"
      ],
      "metadata": {
        "colab": {
          "base_uri": "https://localhost:8080/"
        },
        "id": "BlPf5D3fg2On",
        "outputId": "3bd64899-0f68-4eb9-cb18-c0587babad0c"
      },
      "execution_count": 14,
      "outputs": [
        {
          "output_type": "stream",
          "name": "stdout",
          "text": [
            "There is no significant difference in student performance between the two teaching methods.\n"
          ]
        }
      ]
    },
    {
      "cell_type": "code",
      "source": [],
      "metadata": {
        "id": "Pyi8oWX2hJaZ"
      },
      "execution_count": null,
      "outputs": []
    },
    {
      "cell_type": "markdown",
      "source": [
        "Q13. A population has a mean of 60 and a standard deviation of 8. A sample of 50 observations has a mean\n",
        "of 65. Calculate the 90% confidence interval for the true population mean."
      ],
      "metadata": {
        "id": "LMDhZbkaaGp-"
      }
    },
    {
      "cell_type": "markdown",
      "source": [
        "To calculate the 90% confidence interval for the true population mean, we can use the formula:\n",
        "\n",
        "CI = X̄ ± z*(σ/√n)\n",
        "\n",
        "where X̄ is the sample mean, σ is the population standard deviation, n is the sample size, and z is the critical value from the standard normal distribution for the desired level of confidence.\n",
        "\n",
        "First, we need to find the critical value for a 90% confidence level. Using a standard normal distribution table or calculator, we find that the critical value is 1.645.\n",
        "\n",
        "Plugging in the values, we get:\n",
        "\n",
        "CI = 65 ± 1.645*(8/√50)\n",
        "= 65 ± 2.31\n",
        "\n",
        "Therefore, the 90% confidence interval for the true population mean is (63.13, 66.86). This means we can be 90% confident that the true population mean falls within this range"
      ],
      "metadata": {
        "id": "tJs6jsj9iS_E"
      }
    },
    {
      "cell_type": "code",
      "source": [
        "import math\n",
        "\n",
        "sample_mean = 65\n",
        "pop_mean = 60\n",
        "pop_stddev = 8\n",
        "sample_size = 50\n",
        "confidence_level = 0.90\n",
        "\n",
        "std_error = pop_stddev / math.sqrt(sample_size)\n",
        "\n",
        "z_score = abs(stats.norm.ppf((1 - confidence_level) / 2))\n",
        "\n",
        "margin_of_error = z_score * std_error\n",
        "\n",
        "lower_bound = sample_mean - margin_of_error\n",
        "upper_bound = sample_mean + margin_of_error"
      ],
      "metadata": {
        "id": "yc6VrOMDaJPM"
      },
      "execution_count": 19,
      "outputs": []
    },
    {
      "cell_type": "code",
      "source": [
        "lower_bound , upper_bound"
      ],
      "metadata": {
        "colab": {
          "base_uri": "https://localhost:8080/"
        },
        "id": "Etu6HlPwi20n",
        "outputId": "3101b75e-9144-4f02-8af9-5af1f4e341b8"
      },
      "execution_count": 20,
      "outputs": [
        {
          "output_type": "execute_result",
          "data": {
            "text/plain": [
              "(63.13906055411732, 66.86093944588268)"
            ]
          },
          "metadata": {},
          "execution_count": 20
        }
      ]
    },
    {
      "cell_type": "code",
      "source": [],
      "metadata": {
        "id": "TGpPwyAIi2l7"
      },
      "execution_count": null,
      "outputs": []
    },
    {
      "cell_type": "markdown",
      "source": [
        "Q14. In a study of the effects of caffeine on reaction time, a sample of 30 participants had an average\n",
        "reaction time of 0.25 seconds with a standard deviation of 0.05 seconds. Conduct a hypothesis test to\n",
        "determine if the caffeine has a significant effect on reaction time at a 90% confidence level using a t-test."
      ],
      "metadata": {
        "id": "gkvZrr3gaJ4f"
      }
    },
    {
      "cell_type": "code",
      "source": [
        "import numpy as np\n",
        "from scipy.stats import t\n",
        "\n",
        "n = 30\n",
        "xbar = 0.25\n",
        "s = 0.05\n",
        "mu0 = 0.24\n",
        "\n",
        "t_stat = (xbar - mu0) / (s / np.sqrt(n))\n",
        "\n",
        "alpha = 0.1\n",
        "df = n - 1\n",
        "t_crit = t.ppf(1 - alpha/2, df)"
      ],
      "metadata": {
        "id": "mypW4uQ7aMaJ"
      },
      "execution_count": 22,
      "outputs": []
    },
    {
      "cell_type": "code",
      "source": [
        "t_stat"
      ],
      "metadata": {
        "colab": {
          "base_uri": "https://localhost:8080/"
        },
        "id": "HV9O7-IYj_G1",
        "outputId": "c01325db-f2ab-480b-8772-c41f58ff4819"
      },
      "execution_count": 23,
      "outputs": [
        {
          "output_type": "execute_result",
          "data": {
            "text/plain": [
              "1.0954451150103333"
            ]
          },
          "metadata": {},
          "execution_count": 23
        }
      ]
    },
    {
      "cell_type": "code",
      "source": [
        "t_crit"
      ],
      "metadata": {
        "colab": {
          "base_uri": "https://localhost:8080/"
        },
        "id": "weFR7CMpkUbn",
        "outputId": "fa33e4a5-2f28-461f-d0e8-a73d81c32c7f"
      },
      "execution_count": 24,
      "outputs": [
        {
          "output_type": "execute_result",
          "data": {
            "text/plain": [
              "1.6991270265334972"
            ]
          },
          "metadata": {},
          "execution_count": 24
        }
      ]
    },
    {
      "cell_type": "code",
      "source": [
        "if abs(t_stat) > t_crit:\n",
        "    print(\"Reject the null hypothesis - caffeine has a significant effect on reaction time\")\n",
        "else:\n",
        "    print(\"Fail to reject the null hypothesis - there is not enough evidence to conclude that caffeine has a significant effect on reaction time\")"
      ],
      "metadata": {
        "id": "VbOPUi-ikGgI"
      },
      "execution_count": null,
      "outputs": []
    }
  ]
}